{
 "cells": [
  {
   "cell_type": "code",
   "execution_count": 1,
   "id": "81ffaeeb",
   "metadata": {},
   "outputs": [],
   "source": [
    "from tensorflow.keras.layers import Dense, Flatten, Input\n",
    "from tensorflow.keras.models import Model\n",
    "from tensorflow.keras.preprocessing import image\n",
    "from tensorflow.keras.preprocessing.image import ImageDataGenerator, load_img\n",
    "from tensorflow.keras.applications.vgg16 import VGG16, preprocess_input\n",
    "from glob import glob\n",
    "import numpy as np\n",
    "import matplotlib.pyplot as plt"
   ]
  },
  {
   "cell_type": "code",
   "execution_count": 2,
   "id": "ae6ee002",
   "metadata": {},
   "outputs": [],
   "source": [
    "vgg = VGG16(input_shape= (224,224,3),weights = 'imagenet',include_top=False)"
   ]
  },
  {
   "cell_type": "code",
   "execution_count": 3,
   "id": "f2f78689",
   "metadata": {},
   "outputs": [],
   "source": [
    "for layer in vgg.layers:\n",
    "    layer.trainable = False"
   ]
  },
  {
   "cell_type": "code",
   "execution_count": 4,
   "id": "d5d53312",
   "metadata": {},
   "outputs": [],
   "source": [
    "x = Flatten()(vgg.output)"
   ]
  },
  {
   "cell_type": "code",
   "execution_count": 5,
   "id": "dde58f0e",
   "metadata": {},
   "outputs": [],
   "source": [
    "prediction = Dense(3,activation='softmax')(x)"
   ]
  },
  {
   "cell_type": "code",
   "execution_count": 15,
   "id": "1d54e12c",
   "metadata": {},
   "outputs": [],
   "source": [
    "prediction1 = Dense(3,activation='softmax')(x)"
   ]
  },
  {
   "cell_type": "code",
   "execution_count": 6,
   "id": "0f914556",
   "metadata": {},
   "outputs": [],
   "source": [
    "model = Model(inputs=vgg.input,outputs=prediction)\n"
   ]
  },
  {
   "cell_type": "code",
   "execution_count": 16,
   "id": "56bdcc25",
   "metadata": {},
   "outputs": [],
   "source": [
    "model1 = Model(inputs=vgg.input,outputs=prediction)"
   ]
  },
  {
   "cell_type": "code",
   "execution_count": 7,
   "id": "93583e7a",
   "metadata": {},
   "outputs": [
    {
     "name": "stdout",
     "output_type": "stream",
     "text": [
      "Model: \"model\"\n",
      "_________________________________________________________________\n",
      " Layer (type)                Output Shape              Param #   \n",
      "=================================================================\n",
      " input_1 (InputLayer)        [(None, 224, 224, 3)]     0         \n",
      "                                                                 \n",
      " block1_conv1 (Conv2D)       (None, 224, 224, 64)      1792      \n",
      "                                                                 \n",
      " block1_conv2 (Conv2D)       (None, 224, 224, 64)      36928     \n",
      "                                                                 \n",
      " block1_pool (MaxPooling2D)  (None, 112, 112, 64)      0         \n",
      "                                                                 \n",
      " block2_conv1 (Conv2D)       (None, 112, 112, 128)     73856     \n",
      "                                                                 \n",
      " block2_conv2 (Conv2D)       (None, 112, 112, 128)     147584    \n",
      "                                                                 \n",
      " block2_pool (MaxPooling2D)  (None, 56, 56, 128)       0         \n",
      "                                                                 \n",
      " block3_conv1 (Conv2D)       (None, 56, 56, 256)       295168    \n",
      "                                                                 \n",
      " block3_conv2 (Conv2D)       (None, 56, 56, 256)       590080    \n",
      "                                                                 \n",
      " block3_conv3 (Conv2D)       (None, 56, 56, 256)       590080    \n",
      "                                                                 \n",
      " block3_pool (MaxPooling2D)  (None, 28, 28, 256)       0         \n",
      "                                                                 \n",
      " block4_conv1 (Conv2D)       (None, 28, 28, 512)       1180160   \n",
      "                                                                 \n",
      " block4_conv2 (Conv2D)       (None, 28, 28, 512)       2359808   \n",
      "                                                                 \n",
      " block4_conv3 (Conv2D)       (None, 28, 28, 512)       2359808   \n",
      "                                                                 \n",
      " block4_pool (MaxPooling2D)  (None, 14, 14, 512)       0         \n",
      "                                                                 \n",
      " block5_conv1 (Conv2D)       (None, 14, 14, 512)       2359808   \n",
      "                                                                 \n",
      " block5_conv2 (Conv2D)       (None, 14, 14, 512)       2359808   \n",
      "                                                                 \n",
      " block5_conv3 (Conv2D)       (None, 14, 14, 512)       2359808   \n",
      "                                                                 \n",
      " block5_pool (MaxPooling2D)  (None, 7, 7, 512)         0         \n",
      "                                                                 \n",
      " flatten (Flatten)           (None, 25088)             0         \n",
      "                                                                 \n",
      " dense (Dense)               (None, 3)                 75267     \n",
      "                                                                 \n",
      "=================================================================\n",
      "Total params: 14,789,955\n",
      "Trainable params: 75,267\n",
      "Non-trainable params: 14,714,688\n",
      "_________________________________________________________________\n"
     ]
    }
   ],
   "source": [
    "model.summary()"
   ]
  },
  {
   "cell_type": "code",
   "execution_count": 8,
   "id": "dfeab978",
   "metadata": {},
   "outputs": [],
   "source": [
    "from tensorflow.keras.preprocessing.image import ImageDataGenerator"
   ]
  },
  {
   "cell_type": "code",
   "execution_count": 9,
   "id": "69eff894",
   "metadata": {},
   "outputs": [],
   "source": [
    "train_datagen = ImageDataGenerator(rescale=1./255,shear_range=0.1,zoom_range=0.1,horizontal_flip=True)"
   ]
  },
  {
   "cell_type": "code",
   "execution_count": 10,
   "id": "87b7db15",
   "metadata": {},
   "outputs": [],
   "source": [
    "test_datagen = ImageDataGenerator(rescale = 1./255)"
   ]
  },
  {
   "cell_type": "code",
   "execution_count": 11,
   "id": "62641689",
   "metadata": {},
   "outputs": [
    {
     "name": "stdout",
     "output_type": "stream",
     "text": [
      "Found 979 images belonging to 3 classes.\n",
      "Found 171 images belonging to 3 classes.\n"
     ]
    }
   ],
   "source": [
    "training_set = train_datagen.flow_from_directory(def detect(frame):\n",
    "    img = cv2.resize(frame,(64,64))\n",
    "    img = cv2.cvtColor(img,cv2.COLOR_BGR2RGB)\n",
    "    if(np.max(img)>1):\n",
    "        img = img/255.0\n",
    "    img = np.array([img])\n",
    "    prediction = model.predict(img)\n",
    "    label = [\"front\",\"rear\",\"side\"]\n",
    "    preds = label[np.argmax(prediction)]\n",
    "    return preds\",target_size=(224,224),batch_size=10,class_mode='categorical')\n",
    "test_set = test_datagen.flow_from_directory(r\"C:\\Users\\User\\Desktop\\Project\\body\\validation\",target_size=(224,224),batch_size=10,class_mode='categorical')"
   ]
  },
  {
   "cell_type": "code",
   "execution_count": 12,
   "id": "ff5190dd",
   "metadata": {},
   "outputs": [
    {
     "name": "stdout",
     "output_type": "stream",
     "text": [
      "Found 979 images belonging to 3 classes.\n",
      "Found 171 images belonging to 3 classes.\n"
     ]
    }
   ],
   "source": [
    "training_set = train_datagen.flow_from_directory(r\"C:\\Users\\User\\Desktop\\Project\\level\\training\",target_size=(224,224),batch_size=10,class_mode='categorical')\n",
    "test_set = test_datagen.flow_from_directory(r\"C:\\Users\\User\\Desktop\\Project\\level\\validation\",target_size=(224,224),batch_size=10,class_mode='categorical')"
   ]
  },
  {
   "cell_type": "code",
   "execution_count": 13,
   "id": "16345994",
   "metadata": {},
   "outputs": [],
   "source": [
    "model.compile(loss='categorical_crossentropy',optimizer='adam',metrics=['accuracy'])"
   ]
  },
  {
   "cell_type": "code",
   "execution_count": 17,
   "id": "1ace702b",
   "metadata": {},
   "outputs": [],
   "source": [
    "model1.compile(loss='categorical_crossentropy',optimizer='adam',metrics=['accuracy'])"
   ]
  },
  {
   "cell_type": "code",
   "execution_count": 21,
   "id": "1657413a",
   "metadata": {},
   "outputs": [
    {
     "name": "stdout",
     "output_type": "stream",
     "text": [
      "97/97 [==============================] - 505s 5s/step - loss: 0.6031 - accuracy: 0.7709 - val_loss: 1.1624 - val_accuracy: 0.6353\n"
     ]
    }
   ],
   "source": [
    "import sys\n",
    "r = model.fit(training_set,validation_data=test_set,epochs=1,steps_per_epoch=979//10,validation_steps=171//10)"
   ]
  },
  {
   "cell_type": "code",
   "execution_count": 19,
   "id": "aba4ddbe",
   "metadata": {},
   "outputs": [
    {
     "name": "stdout",
     "output_type": "stream",
     "text": [
      "Epoch 1/2\n",
      "97/97 [==============================] - 547s 6s/step - loss: 1.1817 - accuracy: 0.5614 - val_loss: 1.5287 - val_accuracy: 0.5529\n",
      "Epoch 2/2\n",
      "97/97 [==============================] - 537s 6s/step - loss: 0.7176 - accuracy: 0.7110 - val_loss: 1.1023 - val_accuracy: 0.5706\n"
     ]
    }
   ],
   "source": [
    "r = model1.fit(training_set,validation_data=test_set,epochs=2,steps_per_epoch=979//10,validation_steps=171//10)"
   ]
  },
  {
   "cell_type": "code",
   "execution_count": 22,
   "id": "2bc6a283",
   "metadata": {},
   "outputs": [],
   "source": [
    "model.save('body.h5')"
   ]
  },
  {
   "cell_type": "code",
   "execution_count": 23,
   "id": "c4178fca",
   "metadata": {},
   "outputs": [],
   "source": [
    "model.save('level.h5')"
   ]
  },
  {
   "cell_type": "code",
   "execution_count": 24,
   "id": "b15c410e",
   "metadata": {},
   "outputs": [],
   "source": [
    "from tensorflow.keras.models import load_model\n",
    "import cv2\n",
    "from skimage.transform import resize"
   ]
  },
  {
   "cell_type": "code",
   "execution_count": 25,
   "id": "dfb105c9",
   "metadata": {},
   "outputs": [],
   "source": [
    "model = load_model('body.h5')"
   ]
  },
  {
   "cell_type": "code",
   "execution_count": 26,
   "id": "889f9370",
   "metadata": {},
   "outputs": [],
   "source": [
    "model1=load_model('level.h5')"
   ]
  },
  {
   "cell_type": "code",
   "execution_count": 27,
   "id": "d1678eb9",
   "metadata": {},
   "outputs": [],
   "source": [
    "def detect(frame):\n",
    "    img = cv2.resize(frame,(64,64))\n",
    "    img = cv2.cvtColor(img,cv2.COLOR_BGR2RGB)\n",
    "    if(np.max(img)>1):\n",
    "        img = img/255.0\n",
    "    img = np.array([img])\n",
    "    prediction = model.predict(img)\n",
    "    label = [\"front\",\"rear\",\"side\"]\n",
    "    preds = label[np.argmax(prediction)]\n",
    "    return preds"
   ]
  },
  {
   "cell_type": "code",
   "execution_count": 28,
   "id": "5490c073",
   "metadata": {},
   "outputs": [],
   "source": [
    "def detect(frame):\n",
    "    img = cv2.resize(Frame,(64,64))\n",
    "    img = cv2.cvtColor(img,cv2.COLOR_BGR2RGB)\n",
    "    if(np.max(img)>1):\n",
    "        img = img/255.0\n",
    "    img = np.array([img])\n",
    "    prediction = model.predict(img)\n",
    "    print(prediction)\n",
    "    label = [\"minor\",\"moderate\",\"severe\"]\n",
    "    preds = label[np.argmax(prediction)]\n",
    "    return preds"
   ]
  },
  {
   "cell_type": "code",
   "execution_count": 53,
   "id": "455fb3b2",
   "metadata": {},
   "outputs": [],
   "source": [
    "import numpy as np\n",
    "data = r\"C:\\Users\\User\\Desktop\\Project\\level\\training\\01-minor\\0005.JPEG\"\n",
    "image=cv2.imread(data)\n"
   ]
  },
  {
   "cell_type": "code",
   "execution_count": null,
   "id": "719aeb7e",
   "metadata": {},
   "outputs": [],
   "source": []
  },
  {
   "cell_type": "code",
   "execution_count": null,
   "id": "01b0c0c1",
   "metadata": {},
   "outputs": [],
   "source": []
  }
 ],
 "metadata": {
  "kernelspec": {
   "display_name": "Python 3 (ipykernel)",
   "language": "python",
   "name": "python3"
  },
  "language_info": {
   "codemirror_mode": {
    "name": "ipython",
    "version": 3
   },
   "file_extension": ".py",
   "mimetype": "text/x-python",
   "name": "python",
   "nbconvert_exporter": "python",
   "pygments_lexer": "ipython3",
   "version": "3.9.12"
  }
 },
 "nbformat": 4,
 "nbformat_minor": 5
}
